{
 "cells": [
  {
   "cell_type": "code",
   "execution_count": 30,
   "id": "62600fba",
   "metadata": {},
   "outputs": [],
   "source": [
    "# PCA\n",
    "# Importing the libraries\n",
    "import numpy as np\n",
    "import matplotlib.pyplot as plt\n",
    "from sklearn.preprocessing import StandardScaler\n",
    "import pandas as pd\n",
    "from sklearn.decomposition import KernelPCA\n",
    "\n",
    "\n",
    "\n",
    "def split_scalar(X,y):\n",
    "    from sklearn.model_selection import train_test_split\n",
    "    X_train, X_test, y_train, y_test = train_test_split(X, y, test_size = 0.2, random_state = 0)\n",
    "    sc = StandardScaler()\n",
    "    X_train = sc.fit_transform(X_train)\n",
    "    X_test = sc.transform(X_test)\n",
    "    return X_train,X_test,y_train, y_test\n",
    "\n",
    "def kernelPCA(X,y, n):\n",
    "    kpca = KernelPCA(n_components = n, kernel = 'rbf')\n",
    "    X_train = kpca.fit_transform(X)\n",
    "    return kpca, X_train\n",
    "\n",
    "\n",
    "def logistic(X_train, y_train,X_test):\n",
    "    from sklearn.linear_model import LogisticRegression\n",
    "    classifier = LogisticRegression(random_state = 0)\n",
    "    classifier.fit(X_train, y_train)\n",
    "    cm,accuracy,classifier = cm_predition(classifier,X_test)\n",
    "    return cm,accuracy,classifier\n",
    "\n",
    "def svm_linear(X_train,y_train,X_test):\n",
    "    from sklearn.svm import SVC\n",
    "    classifier = SVC(kernel = 'linear', random_state = 0)\n",
    "    classifier.fit(X_train, y_train)\n",
    "    cm,accuracy,classifier = cm_predition(classifier,X_test)\n",
    "    return  cm,accuracy,classifier\n",
    "           \n",
    "def svm_NL(X_train,y_train,X_test):\n",
    "    from sklearn.svm import SVC\n",
    "    classifier = SVC(kernel = 'rbf', random_state = 0)\n",
    "    classifier.fit(X_train, y_train)\n",
    "    cm,accuracy,classifier = cm_predition(classifier,X_test)\n",
    "    return  cm,accuracy,classifier\n",
    "\n",
    "def Navie(X_train,y_train,X_test):       \n",
    "    # Fitting K-NN to the Training set\n",
    "    from sklearn.naive_bayes import GaussianNB\n",
    "    classifier = GaussianNB()\n",
    "    classifier.fit(X_train, y_train)\n",
    "    cm,accuracy,classifier = cm_predition(classifier,X_test)\n",
    "    return  cm,accuracy,classifier         \n",
    "    \n",
    "    \n",
    "def knn(X_train,y_train,X_test):\n",
    "    # Fitting K-NN to the Training set\n",
    "    from sklearn.neighbors import KNeighborsClassifier\n",
    "    classifier = KNeighborsClassifier(n_neighbors = 5, metric = 'minkowski', p = 2)\n",
    "    classifier.fit(X_train, y_train)\n",
    "    cm,accuracy,classifier = cm_predition(classifier,X_test)\n",
    "    return  cm,accuracy,classifier\n",
    "\n",
    "def Decision(X_train,y_train,X_test):\n",
    "    # Fitting K-NN to the Training set\n",
    "    from sklearn.tree import DecisionTreeClassifier\n",
    "    classifier = DecisionTreeClassifier(criterion = 'entropy', random_state = 0)\n",
    "    classifier.fit(X_train, y_train)\n",
    "    cm,accuracy,classifier = cm_predition(classifier,X_test)\n",
    "    return  cm,accuracy,classifier     \n",
    "\n",
    "\n",
    "def random(X_train,y_train,X_test):\n",
    "    # Fitting K-NN to the Training set\n",
    "    from sklearn.ensemble import RandomForestClassifier\n",
    "    classifier = RandomForestClassifier(n_estimators = 10, criterion = 'entropy', random_state = 0)\n",
    "    classifier.fit(X_train, y_train)\n",
    "    cm,accuracy,classifier = cm_predition(classifier,X_test)\n",
    "    return  cm,accuracy,classifier\n",
    "\n",
    "def cm_predition (classifier,X_test):\n",
    "    y_pred = classifier.predict(X_test)\n",
    "    from sklearn.metrics import confusion_matrix\n",
    "    cm = confusion_matrix(y_test, y_pred)\n",
    "    from sklearn.metrics import accuracy_score\n",
    "    accuracy= accuracy_score(y_test, y_pred)\n",
    "    return cm,accuracy,classifier\n",
    "\n",
    "def kpca_merge(acclog,accsvmlin,accsvmnl,accnav,accknn,accdec,accrand): \n",
    "    dataframe=pd.DataFrame(index=['Kernel_PCA n=10'],columns=['Logistic','SVMlin','SVMNL','Navie','KNN','DT','RF'])\n",
    "    for number,index in enumerate(dataframe.index):      \n",
    "        dataframe['Logistic'][index]=acclog[number]\n",
    "        dataframe['SVMlin'][index]=accsvmlin[number] \n",
    "        dataframe['SVMNL'][index]=accsvmnl[number] \n",
    "        dataframe['Navie'][index]=accnav[number] \n",
    "        dataframe['KNN'][index]=accknn[number] \n",
    "        dataframe['DT'][index]=accdec[number] \n",
    "        dataframe['RF'][index]=accrand[number] \n",
    "    return dataframe\n",
    "\n",
    "# Importing the dataset\n",
    "dataset = pd.read_csv('Wine.csv')\n",
    "X = dataset.iloc[:, 0:13].values\n",
    "y = dataset.iloc[:, 13].values\n",
    " \n",
    "kernelpca, X_train_kpca = kernelPCA(X, y, 10) \n",
    "# created a empty list to append the final value\n",
    "acclog=[]\n",
    "accsvmlin=[]\n",
    "accsvmnl=[]\n",
    "accnav=[]\n",
    "accknn=[]\n",
    "accdec=[]\n",
    "accrand=[]\n",
    "\n",
    "X_train, X_test, y_train, y_test=split_scalar(X_train_kpca,y) \n",
    "\n",
    "cm,accuracy,classifier=logistic(X_train,y_train,X_test)\n",
    "acclog.append(accuracy)\n",
    "\n",
    "cm,accuracy,classifier=svm_linear(X_train,y_train,X_test)\n",
    "accsvmlin.append(accuracy)\n",
    "\n",
    "cm,accuracy,classifier=svm_NL(X_train,y_train,X_test)\n",
    "accsvmnl.append(accuracy)\n",
    "\n",
    "cm,accuracy,classifier=Navie(X_train,y_train,X_test)\n",
    "accnav.append(accuracy)\n",
    "\n",
    "cm,accuracy,classifier=knn(X_train,y_train,X_test)\n",
    "accknn.append(accuracy)\n",
    "\n",
    "cm,accuracy,classifier=Decision(X_train,y_train,X_test)\n",
    "accdec.append(accuracy)\n",
    "\n",
    "cm,accuracy,classifier=random(X_train,y_train,X_test)\n",
    "accrand.append(accuracy)\n",
    "\n",
    "result = kpca_merge(acclog,accsvmlin,accsvmnl,accnav,accknn,accdec,accrand)"
   ]
  },
  {
   "cell_type": "markdown",
   "id": "970a456d",
   "metadata": {},
   "source": [
    " #### <font color='red'> Result for n = 1</font>"
   ]
  },
  {
   "cell_type": "code",
   "execution_count": 13,
   "id": "fa97809c",
   "metadata": {},
   "outputs": [
    {
     "data": {
      "text/html": [
       "<div>\n",
       "<style scoped>\n",
       "    .dataframe tbody tr th:only-of-type {\n",
       "        vertical-align: middle;\n",
       "    }\n",
       "\n",
       "    .dataframe tbody tr th {\n",
       "        vertical-align: top;\n",
       "    }\n",
       "\n",
       "    .dataframe thead th {\n",
       "        text-align: right;\n",
       "    }\n",
       "</style>\n",
       "<table border=\"1\" class=\"dataframe\">\n",
       "  <thead>\n",
       "    <tr style=\"text-align: right;\">\n",
       "      <th></th>\n",
       "      <th>Logistic</th>\n",
       "      <th>SVMlin</th>\n",
       "      <th>SVMNL</th>\n",
       "      <th>Navie</th>\n",
       "      <th>KNN</th>\n",
       "      <th>DT</th>\n",
       "      <th>RF</th>\n",
       "    </tr>\n",
       "  </thead>\n",
       "  <tbody>\n",
       "    <tr>\n",
       "      <th>Kernel_PCA n=1</th>\n",
       "      <td>0.472222</td>\n",
       "      <td>0.472222</td>\n",
       "      <td>0.472222</td>\n",
       "      <td>0.388889</td>\n",
       "      <td>0.361111</td>\n",
       "      <td>0.638889</td>\n",
       "      <td>0.472222</td>\n",
       "    </tr>\n",
       "  </tbody>\n",
       "</table>\n",
       "</div>"
      ],
      "text/plain": [
       "                Logistic    SVMlin     SVMNL     Navie       KNN        DT  \\\n",
       "Kernel_PCA n=1  0.472222  0.472222  0.472222  0.388889  0.361111  0.638889   \n",
       "\n",
       "                      RF  \n",
       "Kernel_PCA n=1  0.472222  "
      ]
     },
     "execution_count": 13,
     "metadata": {},
     "output_type": "execute_result"
    }
   ],
   "source": [
    "result"
   ]
  },
  {
   "cell_type": "markdown",
   "id": "28ecdc9b",
   "metadata": {},
   "source": [
    " #### <font color='red'> Result for n = 2 </font>"
   ]
  },
  {
   "cell_type": "code",
   "execution_count": 15,
   "id": "d4db9664",
   "metadata": {},
   "outputs": [
    {
     "data": {
      "text/html": [
       "<div>\n",
       "<style scoped>\n",
       "    .dataframe tbody tr th:only-of-type {\n",
       "        vertical-align: middle;\n",
       "    }\n",
       "\n",
       "    .dataframe tbody tr th {\n",
       "        vertical-align: top;\n",
       "    }\n",
       "\n",
       "    .dataframe thead th {\n",
       "        text-align: right;\n",
       "    }\n",
       "</style>\n",
       "<table border=\"1\" class=\"dataframe\">\n",
       "  <thead>\n",
       "    <tr style=\"text-align: right;\">\n",
       "      <th></th>\n",
       "      <th>Logistic</th>\n",
       "      <th>SVMlin</th>\n",
       "      <th>SVMNL</th>\n",
       "      <th>Navie</th>\n",
       "      <th>KNN</th>\n",
       "      <th>DT</th>\n",
       "      <th>RF</th>\n",
       "    </tr>\n",
       "  </thead>\n",
       "  <tbody>\n",
       "    <tr>\n",
       "      <th>Kernel_PCA n=2</th>\n",
       "      <td>0.472222</td>\n",
       "      <td>0.472222</td>\n",
       "      <td>0.472222</td>\n",
       "      <td>0.444444</td>\n",
       "      <td>0.416667</td>\n",
       "      <td>0.611111</td>\n",
       "      <td>0.638889</td>\n",
       "    </tr>\n",
       "  </tbody>\n",
       "</table>\n",
       "</div>"
      ],
      "text/plain": [
       "                Logistic    SVMlin     SVMNL     Navie       KNN        DT  \\\n",
       "Kernel_PCA n=2  0.472222  0.472222  0.472222  0.444444  0.416667  0.611111   \n",
       "\n",
       "                      RF  \n",
       "Kernel_PCA n=2  0.638889  "
      ]
     },
     "execution_count": 15,
     "metadata": {},
     "output_type": "execute_result"
    }
   ],
   "source": [
    "result"
   ]
  },
  {
   "cell_type": "markdown",
   "id": "b13b10af",
   "metadata": {},
   "source": [
    " #### <font color='red'> Result for n = 3</font>"
   ]
  },
  {
   "cell_type": "code",
   "execution_count": 17,
   "id": "ae345730",
   "metadata": {},
   "outputs": [
    {
     "data": {
      "text/html": [
       "<div>\n",
       "<style scoped>\n",
       "    .dataframe tbody tr th:only-of-type {\n",
       "        vertical-align: middle;\n",
       "    }\n",
       "\n",
       "    .dataframe tbody tr th {\n",
       "        vertical-align: top;\n",
       "    }\n",
       "\n",
       "    .dataframe thead th {\n",
       "        text-align: right;\n",
       "    }\n",
       "</style>\n",
       "<table border=\"1\" class=\"dataframe\">\n",
       "  <thead>\n",
       "    <tr style=\"text-align: right;\">\n",
       "      <th></th>\n",
       "      <th>Logistic</th>\n",
       "      <th>SVMlin</th>\n",
       "      <th>SVMNL</th>\n",
       "      <th>Navie</th>\n",
       "      <th>KNN</th>\n",
       "      <th>DT</th>\n",
       "      <th>RF</th>\n",
       "    </tr>\n",
       "  </thead>\n",
       "  <tbody>\n",
       "    <tr>\n",
       "      <th>Kernel_PCA n=3</th>\n",
       "      <td>0.472222</td>\n",
       "      <td>0.472222</td>\n",
       "      <td>0.472222</td>\n",
       "      <td>0.444444</td>\n",
       "      <td>0.361111</td>\n",
       "      <td>0.611111</td>\n",
       "      <td>0.666667</td>\n",
       "    </tr>\n",
       "  </tbody>\n",
       "</table>\n",
       "</div>"
      ],
      "text/plain": [
       "                Logistic    SVMlin     SVMNL     Navie       KNN        DT  \\\n",
       "Kernel_PCA n=3  0.472222  0.472222  0.472222  0.444444  0.361111  0.611111   \n",
       "\n",
       "                      RF  \n",
       "Kernel_PCA n=3  0.666667  "
      ]
     },
     "execution_count": 17,
     "metadata": {},
     "output_type": "execute_result"
    }
   ],
   "source": [
    "result"
   ]
  },
  {
   "cell_type": "markdown",
   "id": "ccf9fd8c",
   "metadata": {},
   "source": [
    " #### <font color='red'> Result for n = 4</font>"
   ]
  },
  {
   "cell_type": "code",
   "execution_count": 19,
   "id": "eb00e359",
   "metadata": {},
   "outputs": [
    {
     "data": {
      "text/html": [
       "<div>\n",
       "<style scoped>\n",
       "    .dataframe tbody tr th:only-of-type {\n",
       "        vertical-align: middle;\n",
       "    }\n",
       "\n",
       "    .dataframe tbody tr th {\n",
       "        vertical-align: top;\n",
       "    }\n",
       "\n",
       "    .dataframe thead th {\n",
       "        text-align: right;\n",
       "    }\n",
       "</style>\n",
       "<table border=\"1\" class=\"dataframe\">\n",
       "  <thead>\n",
       "    <tr style=\"text-align: right;\">\n",
       "      <th></th>\n",
       "      <th>Logistic</th>\n",
       "      <th>SVMlin</th>\n",
       "      <th>SVMNL</th>\n",
       "      <th>Navie</th>\n",
       "      <th>KNN</th>\n",
       "      <th>DT</th>\n",
       "      <th>RF</th>\n",
       "    </tr>\n",
       "  </thead>\n",
       "  <tbody>\n",
       "    <tr>\n",
       "      <th>Kernel_PCA n=4</th>\n",
       "      <td>0.5</td>\n",
       "      <td>0.5</td>\n",
       "      <td>0.5</td>\n",
       "      <td>0.25</td>\n",
       "      <td>0.388889</td>\n",
       "      <td>0.611111</td>\n",
       "      <td>0.666667</td>\n",
       "    </tr>\n",
       "  </tbody>\n",
       "</table>\n",
       "</div>"
      ],
      "text/plain": [
       "               Logistic SVMlin SVMNL Navie       KNN        DT        RF\n",
       "Kernel_PCA n=4      0.5    0.5   0.5  0.25  0.388889  0.611111  0.666667"
      ]
     },
     "execution_count": 19,
     "metadata": {},
     "output_type": "execute_result"
    }
   ],
   "source": [
    "result"
   ]
  },
  {
   "cell_type": "markdown",
   "id": "8d831c66",
   "metadata": {},
   "source": [
    " #### <font color='red'> Result for n = 5</font>"
   ]
  },
  {
   "cell_type": "code",
   "execution_count": 21,
   "id": "32211f49",
   "metadata": {},
   "outputs": [
    {
     "data": {
      "text/html": [
       "<div>\n",
       "<style scoped>\n",
       "    .dataframe tbody tr th:only-of-type {\n",
       "        vertical-align: middle;\n",
       "    }\n",
       "\n",
       "    .dataframe tbody tr th {\n",
       "        vertical-align: top;\n",
       "    }\n",
       "\n",
       "    .dataframe thead th {\n",
       "        text-align: right;\n",
       "    }\n",
       "</style>\n",
       "<table border=\"1\" class=\"dataframe\">\n",
       "  <thead>\n",
       "    <tr style=\"text-align: right;\">\n",
       "      <th></th>\n",
       "      <th>Logistic</th>\n",
       "      <th>SVMlin</th>\n",
       "      <th>SVMNL</th>\n",
       "      <th>Navie</th>\n",
       "      <th>KNN</th>\n",
       "      <th>DT</th>\n",
       "      <th>RF</th>\n",
       "    </tr>\n",
       "  </thead>\n",
       "  <tbody>\n",
       "    <tr>\n",
       "      <th>Kernel_PCA n=5</th>\n",
       "      <td>0.5</td>\n",
       "      <td>0.5</td>\n",
       "      <td>0.5</td>\n",
       "      <td>0.222222</td>\n",
       "      <td>0.361111</td>\n",
       "      <td>0.583333</td>\n",
       "      <td>0.666667</td>\n",
       "    </tr>\n",
       "  </tbody>\n",
       "</table>\n",
       "</div>"
      ],
      "text/plain": [
       "               Logistic SVMlin SVMNL     Navie       KNN        DT        RF\n",
       "Kernel_PCA n=5      0.5    0.5   0.5  0.222222  0.361111  0.583333  0.666667"
      ]
     },
     "execution_count": 21,
     "metadata": {},
     "output_type": "execute_result"
    }
   ],
   "source": [
    "result"
   ]
  },
  {
   "cell_type": "markdown",
   "id": "78e83dea",
   "metadata": {},
   "source": [
    " #### <font color='red'> Result for n = 6</font>"
   ]
  },
  {
   "cell_type": "code",
   "execution_count": 23,
   "id": "60566110",
   "metadata": {},
   "outputs": [
    {
     "data": {
      "text/html": [
       "<div>\n",
       "<style scoped>\n",
       "    .dataframe tbody tr th:only-of-type {\n",
       "        vertical-align: middle;\n",
       "    }\n",
       "\n",
       "    .dataframe tbody tr th {\n",
       "        vertical-align: top;\n",
       "    }\n",
       "\n",
       "    .dataframe thead th {\n",
       "        text-align: right;\n",
       "    }\n",
       "</style>\n",
       "<table border=\"1\" class=\"dataframe\">\n",
       "  <thead>\n",
       "    <tr style=\"text-align: right;\">\n",
       "      <th></th>\n",
       "      <th>Logistic</th>\n",
       "      <th>SVMlin</th>\n",
       "      <th>SVMNL</th>\n",
       "      <th>Navie</th>\n",
       "      <th>KNN</th>\n",
       "      <th>DT</th>\n",
       "      <th>RF</th>\n",
       "    </tr>\n",
       "  </thead>\n",
       "  <tbody>\n",
       "    <tr>\n",
       "      <th>Kernel_PCA n=6</th>\n",
       "      <td>0.472222</td>\n",
       "      <td>0.5</td>\n",
       "      <td>0.5</td>\n",
       "      <td>0.222222</td>\n",
       "      <td>0.333333</td>\n",
       "      <td>0.583333</td>\n",
       "      <td>0.638889</td>\n",
       "    </tr>\n",
       "  </tbody>\n",
       "</table>\n",
       "</div>"
      ],
      "text/plain": [
       "                Logistic SVMlin SVMNL     Navie       KNN        DT        RF\n",
       "Kernel_PCA n=6  0.472222    0.5   0.5  0.222222  0.333333  0.583333  0.638889"
      ]
     },
     "execution_count": 23,
     "metadata": {},
     "output_type": "execute_result"
    }
   ],
   "source": [
    "result"
   ]
  },
  {
   "cell_type": "markdown",
   "id": "c573a5d7",
   "metadata": {},
   "source": [
    " #### <font color='red'> Result for n = 7</font>"
   ]
  },
  {
   "cell_type": "code",
   "execution_count": 25,
   "id": "944de05b",
   "metadata": {},
   "outputs": [
    {
     "data": {
      "text/html": [
       "<div>\n",
       "<style scoped>\n",
       "    .dataframe tbody tr th:only-of-type {\n",
       "        vertical-align: middle;\n",
       "    }\n",
       "\n",
       "    .dataframe tbody tr th {\n",
       "        vertical-align: top;\n",
       "    }\n",
       "\n",
       "    .dataframe thead th {\n",
       "        text-align: right;\n",
       "    }\n",
       "</style>\n",
       "<table border=\"1\" class=\"dataframe\">\n",
       "  <thead>\n",
       "    <tr style=\"text-align: right;\">\n",
       "      <th></th>\n",
       "      <th>Logistic</th>\n",
       "      <th>SVMlin</th>\n",
       "      <th>SVMNL</th>\n",
       "      <th>Navie</th>\n",
       "      <th>KNN</th>\n",
       "      <th>DT</th>\n",
       "      <th>RF</th>\n",
       "    </tr>\n",
       "  </thead>\n",
       "  <tbody>\n",
       "    <tr>\n",
       "      <th>Kernel_PCA n=7</th>\n",
       "      <td>0.527778</td>\n",
       "      <td>0.527778</td>\n",
       "      <td>0.527778</td>\n",
       "      <td>0.277778</td>\n",
       "      <td>0.388889</td>\n",
       "      <td>0.555556</td>\n",
       "      <td>0.666667</td>\n",
       "    </tr>\n",
       "  </tbody>\n",
       "</table>\n",
       "</div>"
      ],
      "text/plain": [
       "                Logistic    SVMlin     SVMNL     Navie       KNN        DT  \\\n",
       "Kernel_PCA n=7  0.527778  0.527778  0.527778  0.277778  0.388889  0.555556   \n",
       "\n",
       "                      RF  \n",
       "Kernel_PCA n=7  0.666667  "
      ]
     },
     "execution_count": 25,
     "metadata": {},
     "output_type": "execute_result"
    }
   ],
   "source": [
    "result"
   ]
  },
  {
   "cell_type": "markdown",
   "id": "9350e864",
   "metadata": {},
   "source": [
    " #### <font color='red'> Result for n = 8</font>"
   ]
  },
  {
   "cell_type": "code",
   "execution_count": 27,
   "id": "2c60cee3",
   "metadata": {},
   "outputs": [
    {
     "data": {
      "text/html": [
       "<div>\n",
       "<style scoped>\n",
       "    .dataframe tbody tr th:only-of-type {\n",
       "        vertical-align: middle;\n",
       "    }\n",
       "\n",
       "    .dataframe tbody tr th {\n",
       "        vertical-align: top;\n",
       "    }\n",
       "\n",
       "    .dataframe thead th {\n",
       "        text-align: right;\n",
       "    }\n",
       "</style>\n",
       "<table border=\"1\" class=\"dataframe\">\n",
       "  <thead>\n",
       "    <tr style=\"text-align: right;\">\n",
       "      <th></th>\n",
       "      <th>Logistic</th>\n",
       "      <th>SVMlin</th>\n",
       "      <th>SVMNL</th>\n",
       "      <th>Navie</th>\n",
       "      <th>KNN</th>\n",
       "      <th>DT</th>\n",
       "      <th>RF</th>\n",
       "    </tr>\n",
       "  </thead>\n",
       "  <tbody>\n",
       "    <tr>\n",
       "      <th>Kernel_PCA n=8</th>\n",
       "      <td>0.5</td>\n",
       "      <td>0.527778</td>\n",
       "      <td>0.527778</td>\n",
       "      <td>0.305556</td>\n",
       "      <td>0.416667</td>\n",
       "      <td>0.555556</td>\n",
       "      <td>0.666667</td>\n",
       "    </tr>\n",
       "  </tbody>\n",
       "</table>\n",
       "</div>"
      ],
      "text/plain": [
       "               Logistic    SVMlin     SVMNL     Navie       KNN        DT  \\\n",
       "Kernel_PCA n=8      0.5  0.527778  0.527778  0.305556  0.416667  0.555556   \n",
       "\n",
       "                      RF  \n",
       "Kernel_PCA n=8  0.666667  "
      ]
     },
     "execution_count": 27,
     "metadata": {},
     "output_type": "execute_result"
    }
   ],
   "source": [
    "result"
   ]
  },
  {
   "cell_type": "markdown",
   "id": "1b7983ed",
   "metadata": {},
   "source": [
    " #### <font color='red'> Result for n = 9</font>"
   ]
  },
  {
   "cell_type": "code",
   "execution_count": 29,
   "id": "92ed0ff7",
   "metadata": {},
   "outputs": [
    {
     "data": {
      "text/html": [
       "<div>\n",
       "<style scoped>\n",
       "    .dataframe tbody tr th:only-of-type {\n",
       "        vertical-align: middle;\n",
       "    }\n",
       "\n",
       "    .dataframe tbody tr th {\n",
       "        vertical-align: top;\n",
       "    }\n",
       "\n",
       "    .dataframe thead th {\n",
       "        text-align: right;\n",
       "    }\n",
       "</style>\n",
       "<table border=\"1\" class=\"dataframe\">\n",
       "  <thead>\n",
       "    <tr style=\"text-align: right;\">\n",
       "      <th></th>\n",
       "      <th>Logistic</th>\n",
       "      <th>SVMlin</th>\n",
       "      <th>SVMNL</th>\n",
       "      <th>Navie</th>\n",
       "      <th>KNN</th>\n",
       "      <th>DT</th>\n",
       "      <th>RF</th>\n",
       "    </tr>\n",
       "  </thead>\n",
       "  <tbody>\n",
       "    <tr>\n",
       "      <th>Kernel_PCA n=9</th>\n",
       "      <td>0.5</td>\n",
       "      <td>0.527778</td>\n",
       "      <td>0.527778</td>\n",
       "      <td>0.305556</td>\n",
       "      <td>0.472222</td>\n",
       "      <td>0.611111</td>\n",
       "      <td>0.611111</td>\n",
       "    </tr>\n",
       "  </tbody>\n",
       "</table>\n",
       "</div>"
      ],
      "text/plain": [
       "               Logistic    SVMlin     SVMNL     Navie       KNN        DT  \\\n",
       "Kernel_PCA n=9      0.5  0.527778  0.527778  0.305556  0.472222  0.611111   \n",
       "\n",
       "                      RF  \n",
       "Kernel_PCA n=9  0.611111  "
      ]
     },
     "execution_count": 29,
     "metadata": {},
     "output_type": "execute_result"
    }
   ],
   "source": [
    "result"
   ]
  },
  {
   "cell_type": "markdown",
   "id": "d6ed3e4a",
   "metadata": {},
   "source": [
    " #### <font color='red'> Result for n = 10 </font>"
   ]
  },
  {
   "cell_type": "code",
   "execution_count": 31,
   "id": "9ff3f89e",
   "metadata": {},
   "outputs": [
    {
     "data": {
      "text/html": [
       "<div>\n",
       "<style scoped>\n",
       "    .dataframe tbody tr th:only-of-type {\n",
       "        vertical-align: middle;\n",
       "    }\n",
       "\n",
       "    .dataframe tbody tr th {\n",
       "        vertical-align: top;\n",
       "    }\n",
       "\n",
       "    .dataframe thead th {\n",
       "        text-align: right;\n",
       "    }\n",
       "</style>\n",
       "<table border=\"1\" class=\"dataframe\">\n",
       "  <thead>\n",
       "    <tr style=\"text-align: right;\">\n",
       "      <th></th>\n",
       "      <th>Logistic</th>\n",
       "      <th>SVMlin</th>\n",
       "      <th>SVMNL</th>\n",
       "      <th>Navie</th>\n",
       "      <th>KNN</th>\n",
       "      <th>DT</th>\n",
       "      <th>RF</th>\n",
       "    </tr>\n",
       "  </thead>\n",
       "  <tbody>\n",
       "    <tr>\n",
       "      <th>Kernel_PCA n=10</th>\n",
       "      <td>0.527778</td>\n",
       "      <td>0.527778</td>\n",
       "      <td>0.527778</td>\n",
       "      <td>0.333333</td>\n",
       "      <td>0.527778</td>\n",
       "      <td>0.611111</td>\n",
       "      <td>0.638889</td>\n",
       "    </tr>\n",
       "  </tbody>\n",
       "</table>\n",
       "</div>"
      ],
      "text/plain": [
       "                 Logistic    SVMlin     SVMNL     Navie       KNN        DT  \\\n",
       "Kernel_PCA n=10  0.527778  0.527778  0.527778  0.333333  0.527778  0.611111   \n",
       "\n",
       "                       RF  \n",
       "Kernel_PCA n=10  0.638889  "
      ]
     },
     "execution_count": 31,
     "metadata": {},
     "output_type": "execute_result"
    }
   ],
   "source": [
    "result"
   ]
  }
 ],
 "metadata": {
  "kernelspec": {
   "display_name": "Python 3 (ipykernel)",
   "language": "python",
   "name": "python3"
  },
  "language_info": {
   "codemirror_mode": {
    "name": "ipython",
    "version": 3
   },
   "file_extension": ".py",
   "mimetype": "text/x-python",
   "name": "python",
   "nbconvert_exporter": "python",
   "pygments_lexer": "ipython3",
   "version": "3.10.0"
  }
 },
 "nbformat": 4,
 "nbformat_minor": 5
}
